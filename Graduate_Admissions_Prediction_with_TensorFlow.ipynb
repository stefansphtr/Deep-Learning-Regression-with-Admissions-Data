{
 "cells": [
  {
   "cell_type": "markdown",
   "metadata": {},
   "source": [
    "# Deep Learning Regression Model for Predicting chances of applicant being admitted\n",
    "---\n",
    "\n",
    "- Author: [Stefanus Bernard Melkisedek](https://www.github.com/stefansphtr)\n",
    "- Email: [stefanussipahutar@gmail.com](stefanussipahutar@gmail.com)\n",
    "- Date: 2024-02-04"
   ]
  },
  {
   "cell_type": "markdown",
   "metadata": {},
   "source": [
    "## Project Description\n",
    "\n",
    "This project is a regression model that predicts the chances of an applicant being admitted to a university based on their scores in two exams. The dataset contains nine columns: \n",
    "\n",
    "1. Serial No. (index)\n",
    "2. GRE Score (int)\n",
    "3. TOEFL Score (int)\n",
    "4. University Rating (int) \n",
    "5. SOP (Statement of Purpose) (float)\n",
    "6. LOR (Letter of Recommendation) (float)\n",
    "7. CGPA (Cumulative Grade Point Average) (float)\n",
    "8. Research (int)\n",
    "9. Chance of Admit (float)\n",
    "\n",
    "The model is implemented using a neural network with two hidden layers. The model is trained on the training set and evaluated on the test set. The performance of the model is evaluated using the mean squared error (MSE) and the R-squared score."
   ]
  }
 ],
 "metadata": {
  "language_info": {
   "name": "python"
  }
 },
 "nbformat": 4,
 "nbformat_minor": 2
}
