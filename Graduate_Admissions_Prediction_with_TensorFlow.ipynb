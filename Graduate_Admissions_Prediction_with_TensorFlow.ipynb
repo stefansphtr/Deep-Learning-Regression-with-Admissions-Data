{
 "cells": [
  {
   "cell_type": "markdown",
   "metadata": {},
   "source": [
    "# Deep Learning Regression Model for Predicting chances of applicant being admitted\n",
    "---\n",
    "\n",
    "- Author: [Stefanus Bernard Melkisedek](https://www.github.com/stefansphtr)\n",
    "- Email: [stefanussipahutar@gmail.com](stefanussipahutar@gmail.com)\n",
    "- Date: 2024-02-04"
   ]
  },
  {
   "cell_type": "markdown",
   "metadata": {},
   "source": [
    "## Project Description\n",
    "\n",
    "This project is a regression model that predicts the chances of an applicant being admitted to a university based on their scores in two exams. The dataset contains nine columns: \n",
    "\n",
    "1. Serial No. (index)\n",
    "2. GRE Score (int)\n",
    "3. TOEFL Score (int)\n",
    "4. University Rating (int) \n",
    "5. SOP (Statement of Purpose) (float)\n",
    "6. LOR (Letter of Recommendation) (float)\n",
    "7. CGPA (Cumulative Grade Point Average) (float)\n",
    "8. Research (int)\n",
    "9. Chance of Admit (float)\n",
    "\n",
    "The model is implemented using a neural network with two hidden layers. The model is trained on the training set and evaluated on the test set. The performance of the model is evaluated using the mean squared error (MSE) and the R-squared score."
   ]
  },
  {
   "cell_type": "markdown",
   "metadata": {},
   "source": [
    "## Prepare the libraries"
   ]
  },
  {
   "cell_type": "code",
   "execution_count": null,
   "metadata": {},
   "outputs": [],
   "source": [
    "# Importing libraries for data manipulation and analysis\n",
    "import numpy as np  # For numerical operations\n",
    "import pandas as pd  # For data manipulation and analysis\n",
    "import matplotlib.pyplot as plt  # For data visualization\n",
    "\n",
    "# Importing TensorFlow and Keras for creating and training the neural network model\n",
    "import tensorflow as tf  # For machine learning and numerical computation\n",
    "from tensorflow import keras  # High-level API to build and train models in TensorFlow\n",
    "from keras.models import Sequential  # For linear stacking of layers\n",
    "from keras.callbacks import EarlyStopping  # To stop training when a monitored metric has stopped improving\n",
    "from keras.layers import Dense  # For fully connected layers\n",
    "\n",
    "# Importing Scikit-learn libraries for data preprocessing and performance metrics\n",
    "from sklearn.model_selection import train_test_split  # For splitting the data into train and test sets\n",
    "from sklearn.preprocessing import StandardScaler  # For standardization of features\n",
    "from sklearn.preprocessing import Normalizer  # For normalization of features\n",
    "from sklearn.metrics import r2_score  # For regression performance metrics"
   ]
  },
  {
   "cell_type": "code",
   "execution_count": null,
   "metadata": {},
   "outputs": [],
   "source": []
  }
 ],
 "metadata": {
  "kernelspec": {
   "display_name": "Python 3",
   "language": "python",
   "name": "python3"
  },
  "language_info": {
   "name": "python",
   "version": "3.11.8"
  }
 },
 "nbformat": 4,
 "nbformat_minor": 2
}
